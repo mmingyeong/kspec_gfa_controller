{
 "cells": [
  {
   "cell_type": "code",
   "execution_count": 1,
   "metadata": {},
   "outputs": [],
   "source": [
    "from gfa_controller import gfa_controller"
   ]
  },
  {
   "cell_type": "code",
   "execution_count": 2,
   "metadata": {},
   "outputs": [
    {
     "name": "stdout",
     "output_type": "stream",
     "text": [
      "PING 192.168.8.3 (192.168.8.3) 56(84) bytes of data.\n",
      "64 bytes from 192.168.8.3: icmp_seq=1 ttl=64 time=0.233 ms\n",
      "\n",
      "--- 192.168.8.3 ping statistics ---\n",
      "1 packets transmitted, 1 received, 0% packet loss, time 0ms\n",
      "rtt min/avg/max/mdev = 0.233/0.233/0.233/0.000 ms\n"
     ]
    },
    {
     "data": {
      "text/plain": [
       "256"
      ]
     },
     "execution_count": 2,
     "metadata": {},
     "output_type": "execute_result"
    }
   ],
   "source": [
    "controller = gfa_controller()\n",
    "controller.ping(3)"
   ]
  },
  {
   "cell_type": "code",
   "execution_count": 3,
   "metadata": {},
   "outputs": [
    {
     "name": "stdout",
     "output_type": "stream",
     "text": [
      "camera 40074358: standby\n",
      "camera 40103667: standby\n",
      "camera 40103831: standby\n",
      "camera 40103833: standby\n",
      "camera 40103834: standby\n"
     ]
    }
   ],
   "source": [
    "controller.status()"
   ]
  },
  {
   "cell_type": "code",
   "execution_count": 4,
   "metadata": {},
   "outputs": [
    {
     "ename": "TimeoutException",
     "evalue": "Grab timed out. : TimeoutException thrown (file 'InstantCameraImpl.h', line 1361)",
     "output_type": "error",
     "traceback": [
      "\u001b[0;31m---------------------------------------------------------------------------\u001b[0m",
      "\u001b[0;31mTimeoutException\u001b[0m                          Traceback (most recent call last)",
      "Cell \u001b[0;32mIn[4], line 1\u001b[0m\n\u001b[0;32m----> 1\u001b[0m \u001b[43mcontroller\u001b[49m\u001b[38;5;241;43m.\u001b[39;49m\u001b[43mgrabone\u001b[49m\u001b[43m(\u001b[49m\u001b[38;5;241;43m2\u001b[39;49m\u001b[43m,\u001b[49m\u001b[43m \u001b[49m\u001b[38;5;241;43m0.01\u001b[39;49m\u001b[43m)\u001b[49m\n",
      "File \u001b[0;32m~/mingyeong/controller/src/gfa_controller.py:146\u001b[0m, in \u001b[0;36mgfa_controller.grabone\u001b[0;34m(self, CamNum, ExpTime)\u001b[0m\n\u001b[1;32m    144\u001b[0m ExpTime_microsec \u001b[38;5;241m=\u001b[39m ExpTime \u001b[38;5;241m*\u001b[39m \u001b[38;5;241m1000000\u001b[39m\n\u001b[1;32m    145\u001b[0m cam_ready\u001b[38;5;241m.\u001b[39mExposureTime\u001b[38;5;241m.\u001b[39mSetValue(ExpTime_microsec)\n\u001b[0;32m--> 146\u001b[0m res \u001b[38;5;241m=\u001b[39m \u001b[43mcam_ready\u001b[49m\u001b[38;5;241;43m.\u001b[39;49m\u001b[43mGrabOne\u001b[49m\u001b[43m(\u001b[49m\u001b[38;5;241;43m5000\u001b[39;49m\u001b[43m)\u001b[49m\n\u001b[1;32m    147\u001b[0m img \u001b[38;5;241m=\u001b[39m res\u001b[38;5;241m.\u001b[39mGetArray()\n\u001b[1;32m    149\u001b[0m \u001b[38;5;66;03m# save the image\u001b[39;00m\n",
      "File \u001b[0;32m~/anaconda3/envs/mingyeong/lib/python3.9/site-packages/pypylon/pylon.py:3758\u001b[0m, in \u001b[0;36mInstantCamera.GrabOne\u001b[0;34m(self, *args)\u001b[0m\n\u001b[1;32m   3712\u001b[0m \u001b[38;5;28;01mdef\u001b[39;00m \u001b[38;5;21mGrabOne\u001b[39m(\u001b[38;5;28mself\u001b[39m, \u001b[38;5;241m*\u001b[39margs):\n\u001b[1;32m   3713\u001b[0m \u001b[38;5;250m    \u001b[39m\u001b[38;5;124mr\u001b[39m\u001b[38;5;124;03m\"\"\"\u001b[39;00m\n\u001b[1;32m   3714\u001b[0m \n\u001b[1;32m   3715\u001b[0m \n\u001b[0;32m   (...)\u001b[0m\n\u001b[1;32m   3756\u001b[0m \n\u001b[1;32m   3757\u001b[0m \u001b[38;5;124;03m    \"\"\"\u001b[39;00m\n\u001b[0;32m-> 3758\u001b[0m     \u001b[38;5;28;01mreturn\u001b[39;00m \u001b[43m_pylon\u001b[49m\u001b[38;5;241;43m.\u001b[39;49m\u001b[43mInstantCamera_GrabOne\u001b[49m\u001b[43m(\u001b[49m\u001b[38;5;28;43mself\u001b[39;49m\u001b[43m,\u001b[49m\u001b[43m \u001b[49m\u001b[38;5;241;43m*\u001b[39;49m\u001b[43margs\u001b[49m\u001b[43m)\u001b[49m\n",
      "\u001b[0;31mTimeoutException\u001b[0m: Grab timed out. : TimeoutException thrown (file 'InstantCameraImpl.h', line 1361)"
     ]
    }
   ],
   "source": [
    "controller.grabone(2, 0.01)"
   ]
  }
 ],
 "metadata": {
  "kernelspec": {
   "display_name": "mingyeong",
   "language": "python",
   "name": "python3"
  },
  "language_info": {
   "codemirror_mode": {
    "name": "ipython",
    "version": 3
   },
   "file_extension": ".py",
   "mimetype": "text/x-python",
   "name": "python",
   "nbconvert_exporter": "python",
   "pygments_lexer": "ipython3",
   "version": "3.9.18"
  }
 },
 "nbformat": 4,
 "nbformat_minor": 2
}
